{
 "cells": [
  {
   "cell_type": "markdown",
   "metadata": {},
   "source": [
    "# Constructing a TTNO from a sum of operator chains"
   ]
  },
  {
   "cell_type": "markdown",
   "metadata": {},
   "source": [
    "This notebook demonstrates how to construct a TTNO (tree tensor network operator) from a sum of operator chains of the form\n",
    "$$\n",
    "    \\sum_j \\mathrm{op}_{j,0} \\otimes \\mathrm{op}_{j,1} \\otimes \\cdots \\otimes \\mathrm{op}_{j,n-1},\n",
    "$$\n",
    "where $n$ is the number of physical lattice sites and each $\\mathrm{op}_{j,\\ell}$ is a local operator acting on site $\\ell$ (numbering starting from zero). Internally, `chemtensor` optimizes the virtual bond dimensions of the TTNO based on bipartite graph theory. In this basic example, the local operators are the Pauli matrices and the identity."
   ]
  },
  {
   "cell_type": "code",
   "execution_count": 1,
   "metadata": {},
   "outputs": [],
   "source": [
    "import numpy as np\n",
    "\n",
    "# For simplicty, we locate the compiled module library in the build folder.\n",
    "# In the future, it will be installed as part of a Python package.\n",
    "import sys\n",
    "sys.path.append(\"../../build/\")\n",
    "import chemtensor"
   ]
  },
  {
   "cell_type": "code",
   "execution_count": 2,
   "metadata": {},
   "outputs": [],
   "source": [
    "# number of physical lattice sites\n",
    "nsites_physical = 5"
   ]
  },
  {
   "cell_type": "code",
   "execution_count": 3,
   "metadata": {},
   "outputs": [],
   "source": [
    "# physical quantum numbers at each site (all zero in this example)\n",
    "qsite = [0, 0]"
   ]
  },
  {
   "cell_type": "markdown",
   "metadata": {},
   "source": [
    "## Define operator chains"
   ]
  },
  {
   "cell_type": "code",
   "execution_count": 4,
   "metadata": {},
   "outputs": [],
   "source": [
    "# Pauli matrices\n",
    "sigma_x = np.array([[0.,  1.], [1.,  0.]])\n",
    "sigma_y = np.array([[0., -1j], [1j,  0.]])\n",
    "sigma_z = np.array([[1.,  0.], [0., -1.]])\n",
    "\n",
    "# operator map; the operator identifiers (OIDs) are the indices for this lookup-table, e.g., OID 2 refers to Pauli-Y\n",
    "opmap = [np.identity(2), sigma_x, sigma_y, sigma_z]"
   ]
  },
  {
   "cell_type": "code",
   "execution_count": 5,
   "metadata": {},
   "outputs": [],
   "source": [
    "# coefficient map; first two entries must always be 0 and 1;\n",
    "# the coefficient identifiers (CIDs) are the indices for this lookup-table\n",
    "coeffmap = [0, 1, 0.8, 0.4 - 1.5j, -0.7]"
   ]
  },
  {
   "cell_type": "code",
   "execution_count": 6,
   "metadata": {},
   "outputs": [],
   "source": [
    "# operator chains, containing operator identifiers (OIDs) and coefficient identifiers (CIDs)\n",
    "# referencing 'opmap' and 'coeffmap', respectively\n",
    "chains = [\n",
    "    #                   OIDs          qnumbers       CID start site\n",
    "    chemtensor.OpChain([1, 0, 2],    [0, 0, 0, 0],    4, istart=2),  # coeffmap[4] * X_2 I_3 Y_4\n",
    "    chemtensor.OpChain([1, 3, 0, 2], [0, 0, 0, 0, 0], 1, istart=0),  # coeffmap[1] * X_0 Z_1 I_2 Y_3\n",
    "    chemtensor.OpChain([3, 3],       [0, 0, 0],       3, istart=1),  # coeffmap[3] * Z_1 Z_2\n",
    "    chemtensor.OpChain([2],          [0, 0],          2, istart=4),  # coeffmap[2] * Y_4\n",
    "]"
   ]
  },
  {
   "cell_type": "markdown",
   "metadata": {},
   "source": [
    "In general, the integer quantum numbers are interleaved with the local operators to implement abelian symmetries (like particle number conservation). In practice, the quantum numbers endow the MPO tensors with a sparsity pattern, handled internally by `chemtensor`. In this basic example, we do not use symmetries for simplicity and set all quantum numbers to zero."
   ]
  },
  {
   "cell_type": "markdown",
   "metadata": {},
   "source": [
    "## Construct the TTNO"
   ]
  },
  {
   "cell_type": "markdown",
   "metadata": {},
   "source": [
    "Tree topology:"
   ]
  },
  {
   "cell_type": "code",
   "execution_count": 7,
   "metadata": {},
   "outputs": [],
   "source": [
    "#  0           4\n",
    "#    \\       /\n",
    "#      \\   /\n",
    "#        5\n",
    "#        |\n",
    "#        |\n",
    "#  1 --- 6 --- 3\n",
    "#        |\n",
    "#        |\n",
    "#        2\n",
    "\n",
    "tree_neighbors = [\n",
    "    [5],           # neighbors of site 0\n",
    "    [6],           # neighbors of site 1\n",
    "    [6],           # neighbors of site 2\n",
    "    [6],           # neighbors of site 3\n",
    "    [5],           # neighbors of site 4\n",
    "    [0, 4, 6],     # neighbors of site 5\n",
    "    [1, 2, 3, 5],  # neighbors of site 6\n",
    "]"
   ]
  },
  {
   "cell_type": "markdown",
   "metadata": {},
   "source": [
    "Sites 0, ..., 4 are physical sites, and the remaining sites 5, 6 are branching sites (without physical legs)."
   ]
  },
  {
   "cell_type": "code",
   "execution_count": 8,
   "metadata": {},
   "outputs": [],
   "source": [
    "ttno = chemtensor.construct_ttno_from_opchains(\"double complex\", nsites_physical, tree_neighbors, chains, opmap, coeffmap, qsite)"
   ]
  },
  {
   "cell_type": "code",
   "execution_count": 9,
   "metadata": {},
   "outputs": [
    {
     "data": {
      "text/plain": [
       "2"
      ]
     },
     "execution_count": 9,
     "metadata": {},
     "output_type": "execute_result"
    }
   ],
   "source": [
    "# number of branching sites (in this example, sites 5 and 6)\n",
    "ttno.nsites_branching"
   ]
  },
  {
   "cell_type": "code",
   "execution_count": 10,
   "metadata": {},
   "outputs": [
    {
     "data": {
      "text/plain": [
       "2"
      ]
     },
     "execution_count": 10,
     "metadata": {},
     "output_type": "execute_result"
    }
   ],
   "source": [
    "# show bond dimension between sites 1 and 6\n",
    "ttno.bond_dim(1, 6)"
   ]
  },
  {
   "cell_type": "code",
   "execution_count": 11,
   "metadata": {},
   "outputs": [
    {
     "data": {
      "text/plain": [
       "3"
      ]
     },
     "execution_count": 11,
     "metadata": {},
     "output_type": "execute_result"
    }
   ],
   "source": [
    "# show bond dimension between sites 5 and 6\n",
    "ttno.bond_dim(5, 6)"
   ]
  },
  {
   "cell_type": "code",
   "execution_count": 12,
   "metadata": {},
   "outputs": [
    {
     "data": {
      "text/plain": [
       "array([[0.4-1.5j, 0. -0.8j, 0. +0.j , ..., 0. +0.j , 0. +0.j , 0. +0.j ],\n",
       "       [0. +0.8j, 0.4-1.5j, 0. +0.j , ..., 0. +0.j , 0. +0.j , 0. +0.j ],\n",
       "       [0. +0.j , 0. +0.j , 0.4-1.5j, ..., 0. +0.j , 0. +0.j , 0. +0.j ],\n",
       "       ...,\n",
       "       [0. +0.j , 0. +0.j , 0. +0.j , ..., 0.4-1.5j, 0. +0.j , 0. +0.j ],\n",
       "       [0. +0.j , 0. +0.j , 0. +0.j , ..., 0. +0.j , 0.4-1.5j, 0. -0.8j],\n",
       "       [0. +0.j , 0. +0.j , 0. +0.j , ..., 0. +0.j , 0. +0.8j, 0.4-1.5j]])"
      ]
     },
     "execution_count": 12,
     "metadata": {},
     "output_type": "execute_result"
    }
   ],
   "source": [
    "ttno.to_matrix()"
   ]
  },
  {
   "cell_type": "markdown",
   "metadata": {},
   "source": [
    "## Reference calculation, as consistency check"
   ]
  },
  {
   "cell_type": "code",
   "execution_count": 13,
   "metadata": {},
   "outputs": [],
   "source": [
    "def pad_op_chain(chain: chemtensor.OpChain, new_length: int):\n",
    "    \"\"\"\n",
    "    Construct a new OpChain with identities padded on the left and right.\n",
    "    \"\"\"\n",
    "    npad_right = new_length - chain.length - chain.istart\n",
    "    assert npad_right >= 0\n",
    "    # OID 0 always represents the local identity operation\n",
    "    return chemtensor.OpChain(chain.istart*[0] + chain.oids  + npad_right*[0],\n",
    "                              chain.istart*[0] + chain.qnums + npad_right*[0],\n",
    "                              chain.cid, istart=0)"
   ]
  },
  {
   "cell_type": "code",
   "execution_count": 14,
   "metadata": {},
   "outputs": [],
   "source": [
    "def op_chain_to_matrix(nsites: int, chain: chemtensor.OpChain, opmap, coeffmap):\n",
    "    \"\"\"\n",
    "    Represent the logical operation of the operator chain as a dense matrix.\n",
    "    \"\"\"\n",
    "    if chain.istart > 0 or chain.length < nsites:\n",
    "        chain = pad_op_chain(chain, nsites)\n",
    "    assert chain.istart == 0\n",
    "    assert chain.length == nsites\n",
    "    mat = coeffmap[chain.cid] * np.identity(1)\n",
    "    for oid in chain.oids:\n",
    "        mat = np.kron(mat, opmap[oid])\n",
    "    return mat"
   ]
  },
  {
   "cell_type": "code",
   "execution_count": 15,
   "metadata": {},
   "outputs": [],
   "source": [
    "# reference matrix representation\n",
    "mat_ref = sum([op_chain_to_matrix(nsites_physical, chain, opmap, coeffmap) for chain in chains])"
   ]
  },
  {
   "cell_type": "code",
   "execution_count": 16,
   "metadata": {},
   "outputs": [
    {
     "data": {
      "text/plain": [
       "0.0"
      ]
     },
     "execution_count": 16,
     "metadata": {},
     "output_type": "execute_result"
    }
   ],
   "source": [
    "# compare (difference should be zero)\n",
    "np.linalg.norm(ttno.to_matrix() - mat_ref)"
   ]
  }
 ],
 "metadata": {
  "kernelspec": {
   "display_name": "Python 3",
   "language": "python",
   "name": "python3"
  },
  "language_info": {
   "codemirror_mode": {
    "name": "ipython",
    "version": 3
   },
   "file_extension": ".py",
   "mimetype": "text/x-python",
   "name": "python",
   "nbconvert_exporter": "python",
   "pygments_lexer": "ipython3",
   "version": "3.12.3"
  }
 },
 "nbformat": 4,
 "nbformat_minor": 2
}
