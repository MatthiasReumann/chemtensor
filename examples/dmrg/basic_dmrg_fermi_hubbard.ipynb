{
 "cells": [
  {
   "cell_type": "markdown",
   "metadata": {},
   "source": [
    "# Fermi-Hubbard model Hamiltonian and DMRG"
   ]
  },
  {
   "cell_type": "markdown",
   "metadata": {},
   "source": [
    "The following code uses the Python interface of `chemtensor` to construct the Fermi-Hubbard Hamiltonian as matrix product operator and to run DMRG."
   ]
  },
  {
   "cell_type": "code",
   "execution_count": 1,
   "metadata": {},
   "outputs": [],
   "source": [
    "import numpy as np\n",
    "\n",
    "# For simplicty, we locate the compiled module library in the build folder.\n",
    "# In the future, it will be installed as part of a Python package.\n",
    "import sys\n",
    "sys.path.append(\"../../build/\")\n",
    "import chemtensor"
   ]
  },
  {
   "cell_type": "markdown",
   "metadata": {},
   "source": [
    "### Construct Fermi-Hubbard Hamiltonian"
   ]
  },
  {
   "cell_type": "code",
   "execution_count": 2,
   "metadata": {},
   "outputs": [],
   "source": [
    "# number of spin-endowed lattice sites (local dimension is 4)\n",
    "nsites = 6\n",
    "\n",
    "# Hamiltonian parameters\n",
    "t  = 1.0\n",
    "u  = 4.0\n",
    "mu = 1.5"
   ]
  },
  {
   "cell_type": "code",
   "execution_count": 3,
   "metadata": {},
   "outputs": [
    {
     "name": "stdout",
     "output_type": "stream",
     "text": [
      "Help on built-in function construct_fermi_hubbard_1d_mpo in module chemtensor:\n",
      "\n",
      "construct_fermi_hubbard_1d_mpo(...)\n",
      "    Construct an MPO representation of the Fermi-Hubbard Hamiltonian with nearest-neighbor hopping on a one-dimensional lattice.\n",
      "    Syntax: construct_fermi_hubbard_1d_mpo(nsites: int, t: float, u: float, mu: float)\n",
      "\n"
     ]
    }
   ],
   "source": [
    "# construct the Fermi-Hubbard Hamiltonian as matrix product operator (MPO)\n",
    "help(chemtensor.construct_fermi_hubbard_1d_mpo)\n",
    "hamiltonian = chemtensor.construct_fermi_hubbard_1d_mpo(nsites, t, u, mu)"
   ]
  },
  {
   "cell_type": "code",
   "execution_count": 4,
   "metadata": {},
   "outputs": [
    {
     "data": {
      "text/plain": [
       "4"
      ]
     },
     "execution_count": 4,
     "metadata": {},
     "output_type": "execute_result"
    }
   ],
   "source": [
    "# local dimension\n",
    "hamiltonian.d"
   ]
  },
  {
   "cell_type": "code",
   "execution_count": 5,
   "metadata": {},
   "outputs": [
    {
     "data": {
      "text/plain": [
       "[(0, 0), (1, -1), (1, 1), (2, 0)]"
      ]
     },
     "execution_count": 5,
     "metadata": {},
     "output_type": "execute_result"
    }
   ],
   "source": [
    "# local physical quantum numbers (particle number and spin)\n",
    "[chemtensor.decode_quantum_number_pair(qnum) for qnum in hamiltonian.qsite]"
   ]
  },
  {
   "cell_type": "code",
   "execution_count": 6,
   "metadata": {},
   "outputs": [
    {
     "data": {
      "text/plain": [
       "[1, 6, 6, 6, 6, 6, 1]"
      ]
     },
     "execution_count": 6,
     "metadata": {},
     "output_type": "execute_result"
    }
   ],
   "source": [
    "# virtual bond dimensions\n",
    "hamiltonian.bond_dims"
   ]
  },
  {
   "cell_type": "markdown",
   "metadata": {},
   "source": [
    "### Run two-site DMRG"
   ]
  },
  {
   "cell_type": "code",
   "execution_count": 7,
   "metadata": {},
   "outputs": [],
   "source": [
    "# overall quantum number sector of quantum state (particle number and spin)\n",
    "q_pnum = 7\n",
    "q_spin = 1\n",
    "qnum_sector = chemtensor.encode_quantum_number_pair(q_pnum, q_spin)"
   ]
  },
  {
   "cell_type": "code",
   "execution_count": 8,
   "metadata": {},
   "outputs": [
    {
     "name": "stdout",
     "output_type": "stream",
     "text": [
      "Help on built-in function dmrg in module chemtensor:\n",
      "\n",
      "dmrg(...)\n",
      "    Run the two-site DMRG algorithm for the Hamiltonian provided as MPO.\n",
      "    Syntax: dmrg(mpo, num_sweeps=5, maxiter_lanczos=20, tol_split=1e-10, max_vdim=256, qnum_sector=0, rng_seed=42)\n",
      "\n"
     ]
    }
   ],
   "source": [
    "# run two-site DMRG\n",
    "help(chemtensor.dmrg)\n",
    "psi, en_sweeps, entropy = chemtensor.dmrg(hamiltonian, num_sweeps=4, maxiter_lanczos=25, tol_split=1e-8, max_vdim=32, qnum_sector=qnum_sector)"
   ]
  },
  {
   "cell_type": "markdown",
   "metadata": {},
   "source": [
    "### Evaluate results and compare with exact diagonalization"
   ]
  },
  {
   "cell_type": "code",
   "execution_count": 9,
   "metadata": {},
   "outputs": [
    {
     "data": {
      "text/plain": [
       "[1, 4, 16, 30, 16, 4, 1]"
      ]
     },
     "execution_count": 9,
     "metadata": {},
     "output_type": "execute_result"
    }
   ],
   "source": [
    "# virtual bond dimensions of optimized MPS\n",
    "psi.bond_dims"
   ]
  },
  {
   "cell_type": "code",
   "execution_count": 10,
   "metadata": {},
   "outputs": [
    {
     "data": {
      "text/plain": [
       "[1.0572974362764873,\n",
       " 1.0833061756872804,\n",
       " 1.1618575985077522,\n",
       " 1.0833061757321103,\n",
       " 1.0572974362765597]"
      ]
     },
     "execution_count": 10,
     "metadata": {},
     "output_type": "execute_result"
    }
   ],
   "source": [
    "# splitting entropies for each bond\n",
    "entropy"
   ]
  },
  {
   "cell_type": "code",
   "execution_count": 11,
   "metadata": {},
   "outputs": [
    {
     "data": {
      "text/plain": [
       "(4096,)"
      ]
     },
     "execution_count": 11,
     "metadata": {},
     "output_type": "execute_result"
    }
   ],
   "source": [
    "# represent 'psi' as vector\n",
    "psi_vec = psi.to_statevector()\n",
    "psi_vec.shape"
   ]
  },
  {
   "cell_type": "code",
   "execution_count": 12,
   "metadata": {},
   "outputs": [
    {
     "data": {
      "text/plain": [
       "1.0"
      ]
     },
     "execution_count": 12,
     "metadata": {},
     "output_type": "execute_result"
    }
   ],
   "source": [
    "# must be normalized\n",
    "np.linalg.norm(psi_vec)"
   ]
  },
  {
   "cell_type": "code",
   "execution_count": 13,
   "metadata": {},
   "outputs": [
    {
     "data": {
      "text/plain": [
       "[-18.484358904033304,\n",
       " -18.484358904033297,\n",
       " -18.484358904033286,\n",
       " -18.484358904033304]"
      ]
     },
     "execution_count": 13,
     "metadata": {},
     "output_type": "execute_result"
    }
   ],
   "source": [
    "# energy after each DMRG sweep\n",
    "en_sweeps"
   ]
  },
  {
   "cell_type": "code",
   "execution_count": 14,
   "metadata": {},
   "outputs": [
    {
     "data": {
      "text/plain": [
       "(4096, 4096)"
      ]
     },
     "execution_count": 14,
     "metadata": {},
     "output_type": "execute_result"
    }
   ],
   "source": [
    "# construct the (dense) matrix representation of the matrix product operator on the full Hilbert space\n",
    "h_mat = hamiltonian.to_matrix()\n",
    "# Hilbert space dimension is 4^nsites\n",
    "h_mat.shape"
   ]
  },
  {
   "cell_type": "code",
   "execution_count": 15,
   "metadata": {},
   "outputs": [
    {
     "data": {
      "text/plain": [
       "1.4210854715202004e-14"
      ]
     },
     "execution_count": 15,
     "metadata": {},
     "output_type": "execute_result"
    }
   ],
   "source": [
    "# check consistency with energy expectation value (difference should be numerically zero):\n",
    "abs(np.vdot(psi_vec, h_mat @ psi_vec) - en_sweeps[-1])"
   ]
  },
  {
   "cell_type": "code",
   "execution_count": 16,
   "metadata": {},
   "outputs": [
    {
     "data": {
      "text/plain": [
       "-18.484358962762183"
      ]
     },
     "execution_count": 16,
     "metadata": {},
     "output_type": "execute_result"
    }
   ],
   "source": [
    "# reference eigenvalues (based on exact diagonalization of matrix representation)\n",
    "w_ref = np.linalg.eigvalsh(h_mat)\n",
    "# reference ground state energy\n",
    "w_ref[0]"
   ]
  },
  {
   "cell_type": "code",
   "execution_count": 17,
   "metadata": {},
   "outputs": [
    {
     "data": {
      "text/plain": [
       "array([5.87288795e-08, 5.87288866e-08, 5.87288973e-08, 5.87288795e-08])"
      ]
     },
     "execution_count": 17,
     "metadata": {},
     "output_type": "execute_result"
    }
   ],
   "source": [
    "# difference to reference ground state energy\n",
    "en_sweeps - w_ref[0]"
   ]
  }
 ],
 "metadata": {
  "kernelspec": {
   "display_name": "Python 3",
   "language": "python",
   "name": "python3"
  },
  "language_info": {
   "codemirror_mode": {
    "name": "ipython",
    "version": 3
   },
   "file_extension": ".py",
   "mimetype": "text/x-python",
   "name": "python",
   "nbconvert_exporter": "python",
   "pygments_lexer": "ipython3",
   "version": "3.12.3"
  }
 },
 "nbformat": 4,
 "nbformat_minor": 2
}
